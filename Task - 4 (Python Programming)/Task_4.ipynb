{
 "cells": [
  {
   "cell_type": "code",
   "execution_count": 1,
   "metadata": {},
   "outputs": [
    {
     "name": "stdout",
     "output_type": "stream",
     "text": [
      "HackerRank.com presents \"Pythonist 2\".\n",
      "hACKERrANK.COM PRESENTS \"pYTHONIST 2\".\n"
     ]
    }
   ],
   "source": [
    "#Question 1\n",
    "def swap_case(s):\n",
    "    s1 = \"\"\n",
    "    for i in s:\n",
    "        if i.isupper()== True:\n",
    "            i=i.lower()\n",
    "        else:\n",
    "            i=i.upper()\n",
    "        s1+=i\n",
    "    return s1\n",
    "\n",
    "if __name__ == '__main__':\n",
    "    s = input()\n",
    "    result = swap_case(s)\n",
    "    print(result)"
   ]
  },
  {
   "cell_type": "code",
   "execution_count": 2,
   "metadata": {},
   "outputs": [
    {
     "name": "stdout",
     "output_type": "stream",
     "text": [
      "this is a string\n",
      "this-is-a-string\n"
     ]
    }
   ],
   "source": [
    "#Question 2\n",
    "def split_and_join(line):\n",
    "    line1 = []\n",
    "    line1 = line.split(\" \")\n",
    "    line2 = \"-\".join(line1)\n",
    "    return line2\n",
    "    # write your code here\n",
    "\n",
    "if __name__ == '__main__':\n",
    "    line = input()\n",
    "    result = split_and_join(line)\n",
    "    print(result)"
   ]
  },
  {
   "cell_type": "code",
   "execution_count": 3,
   "metadata": {},
   "outputs": [
    {
     "name": "stdout",
     "output_type": "stream",
     "text": [
      "Ross\n",
      "Taylor\n",
      "Hello Ross Taylor! You just delved into python.\n"
     ]
    }
   ],
   "source": [
    "#Question 3\n",
    "def print_full_name(a, b):\n",
    "    str1 = \"! You just delved into python.\"\n",
    "    print(\"Hello\",a,b+str1)\n",
    "\n",
    "if __name__ == '__main__':\n",
    "    first_name = input()\n",
    "    last_name = input()\n",
    "    print_full_name(first_name, last_name)"
   ]
  },
  {
   "cell_type": "code",
   "execution_count": 4,
   "metadata": {},
   "outputs": [
    {
     "name": "stdout",
     "output_type": "stream",
     "text": [
      "abracadabra\n",
      "5 k\n",
      "abrackdabra\n"
     ]
    }
   ],
   "source": [
    "#Question 4\n",
    "def mutate_string(string, position, character):\n",
    "    string = string[:position] + character + string[position+1:]\n",
    "    return string\n",
    "\n",
    "if __name__ == '__main__':\n",
    "    s = input()\n",
    "    i, c = input().split()\n",
    "    s_new = mutate_string(s, int(i), c)\n",
    "    print(s_new)"
   ]
  },
  {
   "cell_type": "code",
   "execution_count": 5,
   "metadata": {},
   "outputs": [
    {
     "name": "stdout",
     "output_type": "stream",
     "text": [
      "ABCDCDC\n",
      "CDC\n",
      "2\n"
     ]
    }
   ],
   "source": [
    "#Question 5\n",
    "def count_substring(string, sub_string):\n",
    "    length = len(string)\n",
    "    lensub = len(sub_string)\n",
    "    start= cnt=0\n",
    "    end = length\n",
    "    while True:\n",
    "        pos = string.find(sub_string, start, end)\n",
    "        if pos!=-1:\n",
    "            cnt+=1\n",
    "            start=pos+1\n",
    "        else:\n",
    "            break\n",
    "        if start>=length:\n",
    "            break\n",
    "    return cnt\n",
    "\n",
    "if __name__ == '__main__':\n",
    "    string = input().strip()\n",
    "    sub_string = input().strip()\n",
    "    \n",
    "    count = count_substring(string, sub_string)\n",
    "    print(count)"
   ]
  },
  {
   "cell_type": "code",
   "execution_count": 6,
   "metadata": {},
   "outputs": [
    {
     "name": "stdout",
     "output_type": "stream",
     "text": [
      "qA2\n",
      "True\n",
      "True\n",
      "True\n",
      "True\n",
      "True\n"
     ]
    }
   ],
   "source": [
    "#Question 6\n",
    "if __name__ == '__main__':\n",
    "    s = input()\n",
    "    num = False\n",
    "    alpha= False\n",
    "    digit= False\n",
    "    low= False\n",
    "    up = False\n",
    "    for i in s:\n",
    "        if i.isalnum():\n",
    "            num = True\n",
    "        if i.isalpha():\n",
    "            alpha = True\n",
    "        if i.isdigit():\n",
    "            digit = True\n",
    "        if i.islower():\n",
    "            low = True\n",
    "        if i.isupper():\n",
    "            up = True\n",
    "    print(num)\n",
    "    print(alpha)\n",
    "    print(digit)\n",
    "    print(low)\n",
    "    print(up)\n"
   ]
  },
  {
   "cell_type": "code",
   "execution_count": 7,
   "metadata": {},
   "outputs": [
    {
     "name": "stdout",
     "output_type": "stream",
     "text": [
      "5\n",
      "    H    \n",
      "   HHH   \n",
      "  HHHHH  \n",
      " HHHHHHH \n",
      "HHHHHHHHH\n",
      "  HHHHH               HHHHH             \n",
      "  HHHHH               HHHHH             \n",
      "  HHHHH               HHHHH             \n",
      "  HHHHH               HHHHH             \n",
      "  HHHHH               HHHHH             \n",
      "  HHHHH               HHHHH             \n",
      "  HHHHHHHHHHHHHHHHHHHHHHHHH   \n",
      "  HHHHHHHHHHHHHHHHHHHHHHHHH   \n",
      "  HHHHHHHHHHHHHHHHHHHHHHHHH   \n",
      "  HHHHH               HHHHH             \n",
      "  HHHHH               HHHHH             \n",
      "  HHHHH               HHHHH             \n",
      "  HHHHH               HHHHH             \n",
      "  HHHHH               HHHHH             \n",
      "  HHHHH               HHHHH             \n",
      "                    HHHHHHHHH \n",
      "                     HHHHHHH  \n",
      "                      HHHHH   \n",
      "                       HHH    \n",
      "                        H     \n"
     ]
    }
   ],
   "source": [
    "#Question 7\n",
    "thickness = int(input()) #This must be an odd number\n",
    "c = 'H'\n",
    "\n",
    "#Top Cone\n",
    "for i in range(thickness):\n",
    "    print((c*i).rjust(thickness-1)+c+(c*i).ljust(thickness-1))\n",
    "\n",
    "#Top Pillars\n",
    "for i in range(thickness+1):\n",
    "    print((c*thickness).center(thickness*2)+(c*thickness).center(thickness*6))\n",
    "\n",
    "#Middle Belt\n",
    "for i in range((thickness+1)//2):\n",
    "    print((c*thickness*5).center(thickness*6))    \n",
    "\n",
    "#Bottom Pillars\n",
    "for i in range(thickness+1):\n",
    "    print((c*thickness).center(thickness*2)+(c*thickness).center(thickness*6))    \n",
    "\n",
    "#Bottom Cone\n",
    "for i in range(thickness):\n",
    "    print(((c*(thickness-i-1)).rjust(thickness)+c+(c*(thickness-i-1)).ljust(thickness)).rjust(thickness*6))\n"
   ]
  },
  {
   "cell_type": "code",
   "execution_count": 8,
   "metadata": {},
   "outputs": [
    {
     "name": "stdout",
     "output_type": "stream",
     "text": [
      "ABCDEFGHIJKLIMNOQRSTUVWXYZ\n",
      "4\n",
      "ABCD\n",
      "EFGH\n",
      "IJKL\n",
      "IMNO\n",
      "QRST\n",
      "UVWX\n",
      "YZ\n"
     ]
    }
   ],
   "source": [
    "#Question 8\n",
    "import textwrap\n",
    "\n",
    "def wrap(string, max_width):\n",
    "    return(textwrap.fill(string,max_width))\n",
    "\n",
    "if __name__ == '__main__':\n",
    "    string, max_width = input(), int(input())\n",
    "    result = wrap(string, max_width)\n",
    "    print(result)"
   ]
  },
  {
   "cell_type": "code",
   "execution_count": 9,
   "metadata": {},
   "outputs": [
    {
     "name": "stdout",
     "output_type": "stream",
     "text": [
      "9 27\n",
      "------------.|.------------\n",
      "---------.|..|..|.---------\n",
      "------.|..|..|..|..|.------\n",
      "---.|..|..|..|..|..|..|.---\n",
      "----------WELCOME----------\n",
      "---.|..|..|..|..|..|..|.---\n",
      "------.|..|..|..|..|.------\n",
      "---------.|..|..|.---------\n",
      "------------.|.------------\n"
     ]
    }
   ],
   "source": [
    "#Question 9\n",
    "n, m = map(int,input().split())\n",
    "for i in range(1,n,2): \n",
    "    print((i * \".|.\").center(m, \"-\"))\n",
    "print(\"WELCOME\".center(m,\"-\"))\n",
    "for i in range(n-2,-1,-2): \n",
    "    print((i * \".|.\").center(m, \"-\"))\n"
   ]
  },
  {
   "cell_type": "code",
   "execution_count": 11,
   "metadata": {},
   "outputs": [
    {
     "name": "stdout",
     "output_type": "stream",
     "text": [
      "2\n",
      " 1  1  1  1\n",
      " 2  2  2 10\n"
     ]
    }
   ],
   "source": [
    "#Question 10\n",
    "def print_formatted(number):\n",
    "    # your code goes here\n",
    "    width = len(\"{0:b}\".format(number))\n",
    "    for i in range(1,number+1):\n",
    "        print(\"{0:{width}d} {0:{width}o} {0:{width}X} {0:{width}b}\".format(i, width=width))\n",
    "\n",
    "if __name__ == '__main__':\n",
    "    n = int(input())\n",
    "    print_formatted(n)"
   ]
  },
  {
   "cell_type": "code",
   "execution_count": 12,
   "metadata": {},
   "outputs": [
    {
     "name": "stdout",
     "output_type": "stream",
     "text": [
      "5\n",
      "--------e--------\n",
      "------e-d-e------\n",
      "----e-d-c-d-e----\n",
      "--e-d-c-b-c-d-e--\n",
      "e-d-c-b-a-b-c-d-e\n",
      "--e-d-c-b-c-d-e--\n",
      "----e-d-c-d-e----\n",
      "------e-d-e------\n",
      "--------e--------\n"
     ]
    }
   ],
   "source": [
    "#Question 11\n",
    "import string\n",
    "def print_rangoli(size):\n",
    "    # your code goes here\n",
    "    width = 4 * size - 3\n",
    "    alpha = string.ascii_lowercase\n",
    "    for i in list(range(size))[::-1] + list(range(1, size)):\n",
    "        print('-'.join(alpha[size-1:i:-1] + alpha[i:size]).center(width, '-'))\n",
    "if __name__ == '__main__':\n",
    "    n = int(input())\n",
    "    print_rangoli(n)"
   ]
  },
  {
   "cell_type": "code",
   "execution_count": 16,
   "metadata": {},
   "outputs": [
    {
     "name": "stdout",
     "output_type": "stream",
     "text": [
      "chris alan\n",
      "Chris Alan\n"
     ]
    }
   ],
   "source": [
    "#Question 12\n",
    "import os\n",
    "def solve(s):\n",
    "    for x in s[:].split():\n",
    "         s = s.replace(x, x.capitalize())\n",
    "    #print(s)\n",
    "    return s\n",
    "s = input()\n",
    "\n",
    "result = solve(s)\n",
    "print(result)"
   ]
  },
  {
   "cell_type": "code",
   "execution_count": 17,
   "metadata": {},
   "outputs": [
    {
     "name": "stdout",
     "output_type": "stream",
     "text": [
      "BANANA\n",
      "Stuart 12\n"
     ]
    }
   ],
   "source": [
    "#Question 13\n",
    "def minion_game(string):\n",
    "    vowels = 'AEIOU'\n",
    "    kevsc = 0\n",
    "    stusc = 0\n",
    "    for i in range(len(s)):\n",
    "        if s[i] in vowels:\n",
    "            kevsc += (len(s)-i)\n",
    "        else:\n",
    "            stusc += (len(s)-i)\n",
    "\n",
    "    if kevsc > stusc:\n",
    "        print(\"Kevin\", kevsc)\n",
    "    elif kevsc < stusc:\n",
    "        print(\"Stuart\", stusc)\n",
    "    else:\n",
    "        print(\"Draw\")\n",
    "if __name__ == '__main__':\n",
    "    s = input()\n",
    "    minion_game(s)"
   ]
  },
  {
   "cell_type": "code",
   "execution_count": 18,
   "metadata": {},
   "outputs": [
    {
     "name": "stdout",
     "output_type": "stream",
     "text": [
      "AABCAAADA\n",
      "3\n",
      "AB\n",
      "CA\n",
      "AD\n"
     ]
    }
   ],
   "source": [
    "#Question 14\n",
    "def merge_the_tools(string, k):\n",
    "    # your code goes here\n",
    "    temp = []\n",
    "    len_temp = 0\n",
    "    for item in string:\n",
    "        len_temp += 1\n",
    "        if item not in temp:\n",
    "            temp.append(item)\n",
    "        if len_temp == k:\n",
    "            print(''.join(temp))\n",
    "            temp = []\n",
    "            len_temp = 0\n",
    "\n",
    "if __name__ == '__main__':\n",
    "    string, k = input(), int(input())\n",
    "    merge_the_tools(string, k)"
   ]
  },
  {
   "cell_type": "code",
   "execution_count": null,
   "metadata": {},
   "outputs": [],
   "source": [
    "\n"
   ]
  }
 ],
 "metadata": {
  "kernelspec": {
   "display_name": "Python 3",
   "language": "python",
   "name": "python3"
  },
  "language_info": {
   "codemirror_mode": {
    "name": "ipython",
    "version": 3
   },
   "file_extension": ".py",
   "mimetype": "text/x-python",
   "name": "python",
   "nbconvert_exporter": "python",
   "pygments_lexer": "ipython3",
   "version": "3.7.3"
  }
 },
 "nbformat": 4,
 "nbformat_minor": 2
}
