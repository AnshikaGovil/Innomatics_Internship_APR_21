{
 "cells": [
  {
   "cell_type": "code",
   "execution_count": 1,
   "metadata": {},
   "outputs": [
    {
     "name": "stdout",
     "output_type": "stream",
     "text": [
      "1.09 1\n",
      "0.696\n"
     ]
    }
   ],
   "source": [
    "#Question 1\n",
    "def fact(n):\n",
    "    return 1 if n == 0 else n*fact(n-1)\n",
    "def binomial(n,x,p):\n",
    "    return (fact(n)/(fact(x)*fact(n-x)))*(p**x)*((1-p)**(n-x))\n",
    "b, g = list(map(float, input().split(\" \")))\n",
    "print(round(binomial(6,3,b/(b+g))+binomial(6,4,b/(b+g))+binomial(6,5,b/(b+g))+binomial(6,6,b/(b+g)),3))"
   ]
  },
  {
   "cell_type": "code",
   "execution_count": 2,
   "metadata": {},
   "outputs": [
    {
     "name": "stdout",
     "output_type": "stream",
     "text": [
      "12 10\n",
      "0.891\n",
      "0.342\n"
     ]
    }
   ],
   "source": [
    "#Question 2\n",
    "def fact(n):\n",
    "    return 1 if n == 0 else n*fact(n-1)\n",
    "def reject(n,x,p):\n",
    "    return (fact(n)/(fact(x)*fact(n-x)))*(p**x)*((1-p)**(n-x))\n",
    "p, s = list(map(int, input().split(\" \")))\n",
    "print(round(reject(s,2,p/100)+reject(s,1,p/100)+reject(s,0,p/100),3))\n",
    "print(round(sum([reject(s,i,p/100) for i in range(2,s+1)]),3))"
   ]
  },
  {
   "cell_type": "code",
   "execution_count": 4,
   "metadata": {},
   "outputs": [
    {
     "name": "stdout",
     "output_type": "stream",
     "text": [
      "20 2\n",
      "19.5\n",
      "20 22\n",
      "0.401\n",
      "0.341\n"
     ]
    }
   ],
   "source": [
    "#Question 3\n",
    "import math\n",
    "mean, std = list(map(int, input().split(\" \")))\n",
    "r1 = float(input())\n",
    "r2,r3 = list(map(float, input().split(\" \")))\n",
    "def cdf(x): \n",
    "    return(0.5 * (1 + math.erf((x - mean) / (std * (2 ** 0.5)))))\n",
    "print(round(cdf(r1),3))\n",
    "print(round(cdf(r3) - cdf(r2),3))"
   ]
  },
  {
   "cell_type": "code",
   "execution_count": 5,
   "metadata": {},
   "outputs": [
    {
     "name": "stdout",
     "output_type": "stream",
     "text": [
      "70 10\n",
      "80\n",
      "60\n",
      "15.87\n",
      "84.13\n",
      "15.87\n"
     ]
    }
   ],
   "source": [
    "#Question 4\n",
    "import math\n",
    "mean, std = list(map(int, input().split(\" \")))\n",
    "r1 = float(input())\n",
    "r2 = float(input())\n",
    "def cdf(x): \n",
    "    return(0.5 * (1 + math.erf((x - mean) / (std * (2 ** 0.5)))))\n",
    "print(round((1-cdf(r1))*100,2))\n",
    "print(round((1-cdf(r2))*100,2))\n",
    "print(round(cdf(r2)*100,2))"
   ]
  },
  {
   "cell_type": "code",
   "execution_count": 1,
   "metadata": {},
   "outputs": [
    {
     "name": "stdout",
     "output_type": "stream",
     "text": [
      "9800\n",
      "49\n",
      "205\n",
      "15\n",
      "0.0098\n"
     ]
    }
   ],
   "source": [
    "#Question 5\n",
    "import math\n",
    "\n",
    "x = int(input())\n",
    "n = int(input())\n",
    "mu = int(input())\n",
    "sigma = int(input())\n",
    "\n",
    "mu_dash = n * mu \n",
    "sigma_dash = math.sqrt(n) * sigma\n",
    "print(round(0.5*(1+math.erf((x-mu_dash)/(sigma_dash*(math.sqrt(2))))),4))"
   ]
  },
  {
   "cell_type": "code",
   "execution_count": 2,
   "metadata": {},
   "outputs": [
    {
     "name": "stdout",
     "output_type": "stream",
     "text": [
      "250\n",
      "100\n",
      "2.4\n",
      "2.0\n",
      "0.6915\n"
     ]
    }
   ],
   "source": [
    "#Question 6\n",
    "import math\n",
    "\n",
    "x = int(input())\n",
    "n = int(input())\n",
    "mu = float(input())\n",
    "sigma = float(input())\n",
    "\n",
    "mu_dash = n * mu \n",
    "sigma_dash = math.sqrt(n) * sigma\n",
    "print(round(0.5*(1+math.erf((x-mu_dash)/(sigma_dash*(math.sqrt(2))))),4))"
   ]
  },
  {
   "cell_type": "code",
   "execution_count": 1,
   "metadata": {},
   "outputs": [
    {
     "name": "stdout",
     "output_type": "stream",
     "text": [
      "100\n",
      "500\n",
      "80\n",
      ".95\n",
      "1.96\n",
      "484.32\n",
      "515.68\n"
     ]
    }
   ],
   "source": [
    "#Question 7\n",
    "import math\n",
    "s = float(input())\n",
    "mean = float(input())\n",
    "std = float(input())\n",
    "p = float(input())\n",
    "z = float(input())\n",
    "std_sample = std/math.sqrt(s)\n",
    "print(round(mean-std_sample*z,2))\n",
    "print(round(mean+std_sample*z,2))"
   ]
  },
  {
   "cell_type": "code",
   "execution_count": 2,
   "metadata": {},
   "outputs": [
    {
     "name": "stdout",
     "output_type": "stream",
     "text": [
      "10\n",
      "10 9.8 8 7.8 7.7 7 6 5 4 2\n",
      "200 44 32 24 22 17 15 12 8 4\n",
      "0.612\n"
     ]
    }
   ],
   "source": [
    "#Question 8\n",
    "n = int(input())\n",
    "x = list(map(float,input().split()))\n",
    "y = list(map(float,input().split()))\n",
    "mean_x = sum(x) / n\n",
    "mean_y = sum(y) / n\n",
    "stdv_x = (sum([(i - mean_x)**2 for i in x]) / n)**0.5\n",
    "stdv_y = (sum([(i - mean_y)**2 for i in y]) / n)**0.5\n",
    "cov = sum([(x[i] - mean_x) * (y[i] -mean_y) for i in range(n)])\n",
    "cor_coef = cov / (n * stdv_x * stdv_y)\n",
    "print(round(cor_coef,3))"
   ]
  },
  {
   "cell_type": "code",
   "execution_count": 1,
   "metadata": {},
   "outputs": [
    {
     "name": "stdout",
     "output_type": "stream",
     "text": [
      "95 85\n",
      "85 95\n",
      "80 70\n",
      "70 65\n",
      "60 70\n",
      "78.288\n"
     ]
    }
   ],
   "source": [
    "#Question 9\n",
    "from statistics import mean, pstdev\n",
    "def pearson(x, y):\n",
    "    mx, sx, my, sy = mean(x), pstdev(x), mean(y), pstdev(y)\n",
    "    return sum((xi - mx) * (yi - my) for xi, yi in zip(x, y)) / (len(x) * sx * sy)\n",
    "def linear_regression(x, y):\n",
    "    b = pearson(x, y) * pstdev(y) / pstdev(x)\n",
    "    return mean(y) - b * mean(x), b\n",
    "x, y = zip(*(map(float, input().split()) for _ in range(5)))\n",
    "a, b = linear_regression(x, y)\n",
    "print(round(a+b*80,3))"
   ]
  },
  {
   "cell_type": "markdown",
   "metadata": {},
   "source": []
  },
  {
   "cell_type": "code",
   "execution_count": 2,
   "metadata": {},
   "outputs": [
    {
     "name": "stdout",
     "output_type": "stream",
     "text": [
      "2 7\n",
      "0.18 0.89 109.85\n",
      "1.0 0.26 155.72\n",
      "0.92 0.11 137.66\n",
      "0.07 0.37 76.17\n",
      "0.85 0.16 139.75\n",
      "0.99 0.41 162.6\n",
      "0.87 0.47 151.77\n",
      "4\n",
      "0.49 0.18\n",
      "0.57 0.83\n",
      "0.56 0.64\n",
      "0.76 0.18\n",
      "105.21\n",
      "142.67\n",
      "132.94\n",
      "129.7\n"
     ]
    }
   ],
   "source": [
    "#Question 10\n",
    "# Enter your code here. Read input from STDIN. Print output to STDOUT\n",
    "\n",
    "import numpy as np\n",
    "m,n = [int(i) for i in input().split(' ')]\n",
    "X = []\n",
    "Y = []\n",
    "for i in range(n):\n",
    "    data = input().split(' ')\n",
    "    X.append(data[:m])\n",
    "    Y.append(data[m:])\n",
    "q = int(input())\n",
    "X_new = []\n",
    "for x in range(q):\n",
    "    X_new.append(input().split(' '))\n",
    "X = np.array(X,float)\n",
    "Y = np.array(Y,float)\n",
    "X_new = np.array(X_new,float)\n",
    "\n",
    "X_R = X-np.mean(X,axis=0)\n",
    "Y_R = Y-np.mean(Y)\n",
    "\n",
    "beta = (np.linalg.inv((X_R.T)@(X_R)))@((X_R.T)@(Y_R))\n",
    "\n",
    "X_new_R = X_new-np.mean(X,axis=0)\n",
    "Y_new_R = X_new_R @ beta\n",
    "Y_new = Y_new_R + np.mean(Y)\n",
    "\n",
    "for i in Y_new:\n",
    "    print(round(float(i),2))"
   ]
  },
  {
   "cell_type": "code",
   "execution_count": null,
   "metadata": {},
   "outputs": [],
   "source": []
  }
 ],
 "metadata": {
  "kernelspec": {
   "display_name": "Python 3",
   "language": "python",
   "name": "python3"
  },
  "language_info": {
   "codemirror_mode": {
    "name": "ipython",
    "version": 3
   },
   "file_extension": ".py",
   "mimetype": "text/x-python",
   "name": "python",
   "nbconvert_exporter": "python",
   "pygments_lexer": "ipython3",
   "version": "3.7.3"
  }
 },
 "nbformat": 4,
 "nbformat_minor": 2
}
